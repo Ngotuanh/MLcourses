{
 "cells": [
  {
   "cell_type": "code",
   "execution_count": 1,
   "metadata": {
    "collapsed": true
   },
   "outputs": [],
   "source": [
    "import pandas as pd\n",
    "import numpy as np\n"
   ]
  },
  {
   "cell_type": "code",
   "execution_count": 6,
   "metadata": {
    "collapsed": false
   },
   "outputs": [
    {
     "name": "stdout",
     "output_type": "stream",
     "text": [
      "     x1    x2\n",
      "0 -1.88  2.05\n",
      "1 -0.71  0.42\n",
      "2  2.41 -0.67\n",
      "3  1.85 -3.80\n",
      "4 -3.69 -1.33\n"
     ]
    }
   ],
   "source": [
    "x1 = [-1.88,-0.71,2.41,1.85,-3.69]\n",
    "x2 = [2.05,0.42,-0.67,-3.80,-1.33]\n",
    "c1 = [2,2]\n",
    "c2 = [-2,-2]\n",
    "data = pd.DataFrame({'x1':x1,'x2':x2})\n",
    "print data"
   ]
  },
  {
   "cell_type": "code",
   "execution_count": 8,
   "metadata": {
    "collapsed": false
   },
   "outputs": [
    {
     "name": "stderr",
     "output_type": "stream",
     "text": [
      "C:\\Anaconda2\\lib\\site-packages\\sklearn\\utils\\validation.py:386: DeprecationWarning: Passing 1d arrays as data is deprecated in 0.17 and willraise ValueError in 0.19. Reshape your data either using X.reshape(-1, 1) if your data has a single feature or X.reshape(1, -1) if it contains a single sample.\n",
      "  DeprecationWarning)\n",
      "C:\\Anaconda2\\lib\\site-packages\\sklearn\\utils\\validation.py:386: DeprecationWarning: Passing 1d arrays as data is deprecated in 0.17 and willraise ValueError in 0.19. Reshape your data either using X.reshape(-1, 1) if your data has a single feature or X.reshape(1, -1) if it contains a single sample.\n",
      "  DeprecationWarning)\n"
     ]
    }
   ],
   "source": [
    "from sklearn.metrics.pairwise import euclidean_distances\n",
    "dis1 = euclidean_distances(data,c1)\n",
    "dis2 = euclidean_distances(data,c2)"
   ]
  },
  {
   "cell_type": "code",
   "execution_count": 13,
   "metadata": {
    "collapsed": false
   },
   "outputs": [
    {
     "name": "stdout",
     "output_type": "stream",
     "text": [
      "[[ 3.88032215]\n",
      " [ 3.13695712]\n",
      " [ 2.70129599]\n",
      " [ 5.80193933]\n",
      " [ 6.5927991 ]]\n",
      "[[ 4.05177739]\n",
      " [ 2.742353  ]\n",
      " [ 4.60619149]\n",
      " [ 4.25      ]\n",
      " [ 1.8179659 ]]\n"
     ]
    }
   ],
   "source": [
    "print dis1\n",
    "print dis2\n"
   ]
  },
  {
   "cell_type": "code",
   "execution_count": null,
   "metadata": {
    "collapsed": true
   },
   "outputs": [],
   "source": []
  }
 ],
 "metadata": {
  "kernelspec": {
   "display_name": "Python [Root]",
   "language": "python",
   "name": "Python [Root]"
  },
  "language_info": {
   "codemirror_mode": {
    "name": "ipython",
    "version": 2
   },
   "file_extension": ".py",
   "mimetype": "text/x-python",
   "name": "python",
   "nbconvert_exporter": "python",
   "pygments_lexer": "ipython2",
   "version": "2.7.12"
  }
 },
 "nbformat": 4,
 "nbformat_minor": 0
}
